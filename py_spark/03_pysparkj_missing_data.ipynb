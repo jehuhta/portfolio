{
 "cells": [
  {
   "cell_type": "markdown",
   "id": "7b3b9cc3",
   "metadata": {},
   "source": [
    "# 02: Basic Transformations in PySpark\n",
    "\n",
    "This notebook covers the following:\n",
    "|#|Basics|\n",
    "|--|---|\n",
    "|1|Dropping NaN values|\n",
    "|2|Filling missing values|\n",
    "|3|Imputing values|\n",
    "|4||\n",
    "|5||\n"
   ]
  },
  {
   "cell_type": "markdown",
   "id": "633346dd",
   "metadata": {},
   "source": [
    "### Imports"
   ]
  },
  {
   "cell_type": "code",
   "execution_count": null,
   "id": "41031007",
   "metadata": {},
   "outputs": [],
   "source": [
    "# Imports\n",
    "import pyspark\n",
    "import numpy as np\n",
    "import pandas as pd\n",
    "import os\n",
    "from pyspark.sql import SparkSession\n",
    "\n",
    "# Creating the spark session\n",
    "spark = SparkSession.builder.appName(\"Practice\").getOrCreate()"
   ]
  },
  {
   "cell_type": "markdown",
   "id": "82624515",
   "metadata": {},
   "source": [
    "### Loading Dataframe and Creating Session"
   ]
  },
  {
   "cell_type": "code",
   "execution_count": 80,
   "id": "346473fa",
   "metadata": {},
   "outputs": [
    {
     "name": "stdout",
     "output_type": "stream",
     "text": [
      "root\n",
      " |-- index: integer (nullable = true)\n",
      " |-- airline: string (nullable = true)\n",
      " |-- flight: string (nullable = true)\n",
      " |-- source_city: string (nullable = true)\n",
      " |-- departure_time: string (nullable = true)\n",
      " |-- stops: string (nullable = true)\n",
      " |-- arrival_time: string (nullable = true)\n",
      " |-- destination_city: string (nullable = true)\n",
      " |-- class: string (nullable = true)\n",
      " |-- duration: double (nullable = true)\n",
      " |-- days_left: integer (nullable = true)\n",
      " |-- price: integer (nullable = true)\n",
      "\n"
     ]
    }
   ],
   "source": [
    "# This needs a new import. The datatypes you'll use are places after 'import'.\n",
    "from pyspark.sql.types import StructType, StructField, StringType, IntegerType, DoubleType\n",
    "\n",
    "# Example schema definition (you need to adjust this to your actual CSV columns)\n",
    "schema = StructType([\n",
    "    StructField(\"index\", IntegerType(), True),\n",
    "    StructField(\"airline\", StringType(), True),\n",
    "    StructField(\"flight\", StringType(), True),\n",
    "    StructField(\"source_city\", StringType(), True),\n",
    "    StructField(\"departure_time\", StringType(), True),\n",
    "    StructField(\"stops\", StringType(), True),\n",
    "    StructField(\"arrival_time\", StringType(), True),\n",
    "    StructField(\"destination_city\", StringType(), True),\n",
    "    StructField(\"class\", StringType(), True),\n",
    "    StructField(\"duration\", DoubleType(), True),\n",
    "    StructField(\"days_left\", IntegerType(), True),  \n",
    "    StructField(\"price\", IntegerType(), True),   \n",
    "])\n",
    "\n",
    "# Load with predefined schema\n",
    "df = spark.read.option(\"header\", \"true\").schema(schema).csv(\"./datasets/airlines_flights_data.csv\")\n",
    "\n",
    "# Printing Schema\n",
    "df.printSchema()\n",
    "\n",
    "# If any start showing as null, it's probably because you skipped a column."
   ]
  },
  {
   "cell_type": "markdown",
   "id": "71dc22f6",
   "metadata": {},
   "source": [
    "---\n",
    "## Handling Missing Data"
   ]
  },
  {
   "cell_type": "code",
   "execution_count": null,
   "id": "bf05e197",
   "metadata": {},
   "outputs": [
    {
     "name": "stdout",
     "output_type": "stream",
     "text": [
      "+-----+--------+-------+-----------+--------------+-----+------------+----------------+-------+--------+---------+-----+\n",
      "|index| airline| flight|source_city|departure_time|stops|arrival_time|destination_city|  class|duration|days_left|price|\n",
      "+-----+--------+-------+-----------+--------------+-----+------------+----------------+-------+--------+---------+-----+\n",
      "|    0|SpiceJet|SG-8709|      Delhi|       Evening| zero|       Night|          Mumbai|Economy|    2.17|        1| 5953|\n",
      "| NULL|    NULL|   NULL|       NULL|          NULL| NULL|        NULL|            NULL|   NULL|    NULL|     NULL| NULL|\n",
      "+-----+--------+-------+-----------+--------------+-----+------------+----------------+-------+--------+---------+-----+\n",
      "only showing top 2 rows\n"
     ]
    }
   ],
   "source": [
    "from pyspark.sql.functions import when, lit\n",
    "\n",
    "# Don't worry about this too much, it just makes a dataframe \n",
    "cols = df.columns\n",
    "df = df.select(\n",
    "    [when(df[\"index\"] == 1, lit(None)).otherwise(df[c]).alias(c) for c in cols]\n",
    ")\n",
    "\n",
    "df.show(2)"
   ]
  },
  {
   "cell_type": "markdown",
   "id": "d304a968",
   "metadata": {},
   "source": [
    "#### Dropping all missing rows"
   ]
  },
  {
   "cell_type": "code",
   "execution_count": 82,
   "id": "6e92b641",
   "metadata": {},
   "outputs": [
    {
     "name": "stdout",
     "output_type": "stream",
     "text": [
      "+-----+--------+-------+-----------+--------------+-----+-------------+----------------+-------+--------+---------+-----+\n",
      "|index| airline| flight|source_city|departure_time|stops| arrival_time|destination_city|  class|duration|days_left|price|\n",
      "+-----+--------+-------+-----------+--------------+-----+-------------+----------------+-------+--------+---------+-----+\n",
      "|    0|SpiceJet|SG-8709|      Delhi|       Evening| zero|        Night|          Mumbai|Economy|    2.17|        1| 5953|\n",
      "|    2| AirAsia| I5-764|      Delhi| Early_Morning| zero|Early_Morning|          Mumbai|Economy|    2.17|        1| 5956|\n",
      "+-----+--------+-------+-----------+--------------+-----+-------------+----------------+-------+--------+---------+-----+\n",
      "only showing top 2 rows\n"
     ]
    }
   ],
   "source": [
    "# Dropping missing rows\n",
    "df.na.drop().show(2)"
   ]
  },
  {
   "cell_type": "code",
   "execution_count": 83,
   "id": "715cc8b1",
   "metadata": {},
   "outputs": [
    {
     "name": "stdout",
     "output_type": "stream",
     "text": [
      "+-----+--------+-------+-----------+--------------+-----+-------------+----------------+-------+--------+---------+-----+\n",
      "|index| airline| flight|source_city|departure_time|stops| arrival_time|destination_city|  class|duration|days_left|price|\n",
      "+-----+--------+-------+-----------+--------------+-----+-------------+----------------+-------+--------+---------+-----+\n",
      "|    0|SpiceJet|SG-8709|      Delhi|       Evening| zero|        Night|          Mumbai|Economy|    2.17|        1| 5953|\n",
      "|    2| AirAsia| I5-764|      Delhi| Early_Morning| zero|Early_Morning|          Mumbai|Economy|    2.17|        1| 5956|\n",
      "+-----+--------+-------+-----------+--------------+-----+-------------+----------------+-------+--------+---------+-----+\n",
      "only showing top 2 rows\n"
     ]
    }
   ],
   "source": [
    "# Dropping Nulls --  drop a row if it contains any nulls.\n",
    "df.na.drop(how='any').show(2)"
   ]
  },
  {
   "cell_type": "code",
   "execution_count": 84,
   "id": "b0a45c1c",
   "metadata": {},
   "outputs": [
    {
     "name": "stdout",
     "output_type": "stream",
     "text": [
      "+-----+--------+-------+-----------+--------------+-----+-------------+----------------+-------+--------+---------+-----+\n",
      "|index| airline| flight|source_city|departure_time|stops| arrival_time|destination_city|  class|duration|days_left|price|\n",
      "+-----+--------+-------+-----------+--------------+-----+-------------+----------------+-------+--------+---------+-----+\n",
      "|    0|SpiceJet|SG-8709|      Delhi|       Evening| zero|        Night|          Mumbai|Economy|    2.17|        1| 5953|\n",
      "|    2| AirAsia| I5-764|      Delhi| Early_Morning| zero|Early_Morning|          Mumbai|Economy|    2.17|        1| 5956|\n",
      "+-----+--------+-------+-----------+--------------+-----+-------------+----------------+-------+--------+---------+-----+\n",
      "only showing top 2 rows\n"
     ]
    }
   ],
   "source": [
    "# Dropping Nulls -- drop a row if it contains a given amount of nulls.\n",
    "df.na.drop(how='any',thresh=2).show(2)"
   ]
  },
  {
   "cell_type": "code",
   "execution_count": 85,
   "id": "bdca37b6",
   "metadata": {},
   "outputs": [
    {
     "name": "stdout",
     "output_type": "stream",
     "text": [
      "+-----+--------+-------+-----------+--------------+-----+-------------+----------------+-------+--------+---------+-----+\n",
      "|index| airline| flight|source_city|departure_time|stops| arrival_time|destination_city|  class|duration|days_left|price|\n",
      "+-----+--------+-------+-----------+--------------+-----+-------------+----------------+-------+--------+---------+-----+\n",
      "|    0|SpiceJet|SG-8709|      Delhi|       Evening| zero|        Night|          Mumbai|Economy|    2.17|        1| 5953|\n",
      "|    2| AirAsia| I5-764|      Delhi| Early_Morning| zero|Early_Morning|          Mumbai|Economy|    2.17|        1| 5956|\n",
      "+-----+--------+-------+-----------+--------------+-----+-------------+----------------+-------+--------+---------+-----+\n",
      "only showing top 2 rows\n"
     ]
    }
   ],
   "source": [
    "# Dropping Nulls -- drop a row if all values are nulls.\n",
    "df.na.drop(how='all').show(2)\n"
   ]
  },
  {
   "cell_type": "code",
   "execution_count": 86,
   "id": "c7003b54",
   "metadata": {},
   "outputs": [
    {
     "name": "stdout",
     "output_type": "stream",
     "text": [
      "+-----+--------+-------+-----------+--------------+-----+-------------+----------------+-------+--------+---------+-----+\n",
      "|index| airline| flight|source_city|departure_time|stops| arrival_time|destination_city|  class|duration|days_left|price|\n",
      "+-----+--------+-------+-----------+--------------+-----+-------------+----------------+-------+--------+---------+-----+\n",
      "|    0|SpiceJet|SG-8709|      Delhi|       Evening| zero|        Night|          Mumbai|Economy|    2.17|        1| 5953|\n",
      "|    2| AirAsia| I5-764|      Delhi| Early_Morning| zero|Early_Morning|          Mumbai|Economy|    2.17|        1| 5956|\n",
      "+-----+--------+-------+-----------+--------------+-----+-------------+----------------+-------+--------+---------+-----+\n",
      "only showing top 2 rows\n"
     ]
    }
   ],
   "source": [
    "# Dropping Nulls -- dropping rows in a specific column.\n",
    "df.na.drop(how=\"any\", subset=[\"source_city\"]).show(2)\n"
   ]
  },
  {
   "cell_type": "markdown",
   "id": "5e4cfa61",
   "metadata": {},
   "source": [
    "#### Filling Missing values"
   ]
  },
  {
   "cell_type": "code",
   "execution_count": 87,
   "id": "fa99ef54",
   "metadata": {},
   "outputs": [
    {
     "name": "stdout",
     "output_type": "stream",
     "text": [
      "+-----+--------+-------+-----------+--------------+-------+------------+----------------+-------+--------+---------+-----+\n",
      "|index| airline| flight|source_city|departure_time|  stops|arrival_time|destination_city|  class|duration|days_left|price|\n",
      "+-----+--------+-------+-----------+--------------+-------+------------+----------------+-------+--------+---------+-----+\n",
      "|    0|SpiceJet|SG-8709|      Delhi|       Evening|   zero|       Night|          Mumbai|Economy|    2.17|        1| 5953|\n",
      "| NULL| MISSING|MISSING|    MISSING|       MISSING|MISSING|     MISSING|         MISSING|MISSING|    NULL|     NULL| NULL|\n",
      "+-----+--------+-------+-----------+--------------+-------+------------+----------------+-------+--------+---------+-----+\n",
      "only showing top 2 rows\n"
     ]
    }
   ],
   "source": [
    "# Filling all na values with the string 'Missing'\n",
    "df.na.fill('MISSING').show(2)"
   ]
  },
  {
   "cell_type": "code",
   "execution_count": 88,
   "id": "b953d005",
   "metadata": {},
   "outputs": [
    {
     "name": "stdout",
     "output_type": "stream",
     "text": [
      "+-----+--------+-------+-----------+--------------+-------+------------+----------------+-------+--------+---------+-----+\n",
      "|index| airline| flight|source_city|departure_time|  stops|arrival_time|destination_city|  class|duration|days_left|price|\n",
      "+-----+--------+-------+-----------+--------------+-------+------------+----------------+-------+--------+---------+-----+\n",
      "|    0|SpiceJet|SG-8709|      Delhi|       Evening|   zero|       Night|          Mumbai|Economy|    2.17|        1| 5953|\n",
      "| NULL|    NULL|Missing|       NULL|          NULL|Missing|        NULL|            NULL|   NULL|    NULL|     NULL| NULL|\n",
      "+-----+--------+-------+-----------+--------------+-------+------------+----------------+-------+--------+---------+-----+\n",
      "only showing top 2 rows\n"
     ]
    }
   ],
   "source": [
    "# Filling missing values -- Selecting specific columns.\n",
    "df.na.fill(\"Missing\", ['flight', 'stops']).show(2)"
   ]
  },
  {
   "cell_type": "markdown",
   "id": "9c7aebe0",
   "metadata": {},
   "source": [
    "#### Imputing missing values"
   ]
  },
  {
   "cell_type": "code",
   "execution_count": null,
   "id": "dd08d524",
   "metadata": {},
   "outputs": [
    {
     "name": "stdout",
     "output_type": "stream",
     "text": [
      "+-----+---------+-------+-----------+--------------+-----+-------------+----------------+-------+--------+---------+-----+------------------+\n",
      "|index|  airline| flight|source_city|departure_time|stops| arrival_time|destination_city|  class|duration|days_left|price|  duration_imputed|\n",
      "+-----+---------+-------+-----------+--------------+-----+-------------+----------------+-------+--------+---------+-----+------------------+\n",
      "|    0| SpiceJet|SG-8709|      Delhi|       Evening| zero|        Night|          Mumbai|Economy|    2.17|        1| 5953|              2.17|\n",
      "| NULL|     NULL|   NULL|       NULL|          NULL| NULL|         NULL|            NULL|   NULL|    NULL|     NULL| NULL|12.221053766091938|\n",
      "|    2|  AirAsia| I5-764|      Delhi| Early_Morning| zero|Early_Morning|          Mumbai|Economy|    2.17|        1| 5956|              2.17|\n",
      "|    3|  Vistara| UK-995|      Delhi|       Morning| zero|    Afternoon|          Mumbai|Economy|    2.25|        1| 5955|              2.25|\n",
      "|    4|  Vistara| UK-963|      Delhi|       Morning| zero|      Morning|          Mumbai|Economy|    2.33|        1| 5955|              2.33|\n",
      "|    5|  Vistara| UK-945|      Delhi|       Morning| zero|    Afternoon|          Mumbai|Economy|    2.33|        1| 5955|              2.33|\n",
      "|    6|  Vistara| UK-927|      Delhi|       Morning| zero|      Morning|          Mumbai|Economy|    2.08|        1| 6060|              2.08|\n",
      "|    7|  Vistara| UK-951|      Delhi|     Afternoon| zero|      Evening|          Mumbai|Economy|    2.17|        1| 6060|              2.17|\n",
      "|    8| GO_FIRST| G8-334|      Delhi| Early_Morning| zero|      Morning|          Mumbai|Economy|    2.17|        1| 5954|              2.17|\n",
      "|    9| GO_FIRST| G8-336|      Delhi|     Afternoon| zero|      Evening|          Mumbai|Economy|    2.25|        1| 5954|              2.25|\n",
      "|   10| GO_FIRST| G8-392|      Delhi|     Afternoon| zero|      Evening|          Mumbai|Economy|    2.25|        1| 5954|              2.25|\n",
      "|   11| GO_FIRST| G8-338|      Delhi|       Morning| zero|    Afternoon|          Mumbai|Economy|    2.33|        1| 5954|              2.33|\n",
      "|   12|   Indigo|6E-5001|      Delhi| Early_Morning| zero|      Morning|          Mumbai|Economy|    2.17|        1| 5955|              2.17|\n",
      "|   13|   Indigo|6E-6202|      Delhi|       Morning| zero|    Afternoon|          Mumbai|Economy|    2.17|        1| 5955|              2.17|\n",
      "|   14|   Indigo| 6E-549|      Delhi|     Afternoon| zero|      Evening|          Mumbai|Economy|    2.25|        1| 5955|              2.25|\n",
      "|   15|   Indigo|6E-6278|      Delhi|       Morning| zero|      Morning|          Mumbai|Economy|    2.33|        1| 5955|              2.33|\n",
      "|   16|Air_India| AI-887|      Delhi| Early_Morning| zero|      Morning|          Mumbai|Economy|    2.08|        1| 5955|              2.08|\n",
      "|   17|Air_India| AI-665|      Delhi| Early_Morning| zero|      Morning|          Mumbai|Economy|    2.17|        1| 5955|              2.17|\n",
      "|   18|  AirAsia| I5-747|      Delhi|       Evening|  one|Early_Morning|          Mumbai|Economy|   12.25|        1| 5949|             12.25|\n",
      "|   19|  AirAsia| I5-747|      Delhi|       Evening|  one|      Morning|          Mumbai|Economy|   16.33|        1| 5949|             16.33|\n",
      "+-----+---------+-------+-----------+--------------+-----+-------------+----------------+-------+--------+---------+-----+------------------+\n",
      "only showing top 20 rows\n"
     ]
    }
   ],
   "source": [
    "# Imputing values that are missing.\n",
    "from pyspark.ml.feature import Imputer\n",
    "\n",
    "imputer = Imputer(\n",
    "    inputCols=['duration'],\n",
    "    outputCols=[\"{}_imputed\".format(c) for c in ['duration']]\n",
    ").setStrategy(\"mean\")\n",
    "\n",
    "# Applying the imputer\n",
    "imputer.fit(df).transform(df).show()\n",
    "\n",
    "# setStrategy(\"Median\") also works."
   ]
  }
 ],
 "metadata": {
  "kernelspec": {
   "display_name": ".venv",
   "language": "python",
   "name": "python3"
  },
  "language_info": {
   "codemirror_mode": {
    "name": "ipython",
    "version": 3
   },
   "file_extension": ".py",
   "mimetype": "text/x-python",
   "name": "python",
   "nbconvert_exporter": "python",
   "pygments_lexer": "ipython3",
   "version": "3.11.7"
  }
 },
 "nbformat": 4,
 "nbformat_minor": 5
}
