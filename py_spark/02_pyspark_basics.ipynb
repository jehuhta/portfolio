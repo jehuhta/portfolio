{
 "cells": [
  {
   "cell_type": "markdown",
   "id": "7b3b9cc3",
   "metadata": {},
   "source": [
    "# 02: Basic Transformations in PySpark\n",
    "\n",
    "This notebook covers the following:\n",
    "|#|Basics|\n",
    "|--|---|\n",
    "|1|Filtering Columns|\n",
    "|2|Showing Columns|\n",
    "|3|Showing head of dataframe|\n",
    "|4|Filtering Columns|\n",
    "|5|Dropping Columns|\n"
   ]
  },
  {
   "cell_type": "markdown",
   "id": "633346dd",
   "metadata": {},
   "source": [
    "### Imports"
   ]
  },
  {
   "cell_type": "code",
   "execution_count": 11,
   "id": "41031007",
   "metadata": {},
   "outputs": [],
   "source": [
    "# Imports\n",
    "import pyspark\n",
    "import numpy as np\n",
    "import pandas as pd\n",
    "import os\n",
    "from pyspark.sql import SparkSession\n",
    "\n",
    "# Creating the spark session\n",
    "spark = SparkSession.builder.appName(\"Practice\").getOrCreate()\n"
   ]
  },
  {
   "cell_type": "markdown",
   "id": "82624515",
   "metadata": {},
   "source": [
    "### Loading Dataframe and Creating Session"
   ]
  },
  {
   "cell_type": "code",
   "execution_count": 12,
   "id": "346473fa",
   "metadata": {},
   "outputs": [
    {
     "name": "stdout",
     "output_type": "stream",
     "text": [
      "root\n",
      " |-- index: integer (nullable = true)\n",
      " |-- airline: string (nullable = true)\n",
      " |-- flight: string (nullable = true)\n",
      " |-- source_city: string (nullable = true)\n",
      " |-- departure_time: string (nullable = true)\n",
      " |-- stops: string (nullable = true)\n",
      " |-- arrival_time: string (nullable = true)\n",
      " |-- destination_city: string (nullable = true)\n",
      " |-- class: string (nullable = true)\n",
      " |-- duration: double (nullable = true)\n",
      " |-- days_left: integer (nullable = true)\n",
      " |-- price: integer (nullable = true)\n",
      "\n"
     ]
    }
   ],
   "source": [
    "# This needs a new import. The datatypes you'll use are places after 'import'.\n",
    "from pyspark.sql.types import StructType, StructField, StringType, IntegerType, DoubleType\n",
    "\n",
    "# Example schema definition (you need to adjust this to your actual CSV columns)\n",
    "schema = StructType([\n",
    "    StructField(\"index\", IntegerType(), True),\n",
    "    StructField(\"airline\", StringType(), True),\n",
    "    StructField(\"flight\", StringType(), True),\n",
    "    StructField(\"source_city\", StringType(), True),\n",
    "    StructField(\"departure_time\", StringType(), True),\n",
    "    StructField(\"stops\", StringType(), True),\n",
    "    StructField(\"arrival_time\", StringType(), True),\n",
    "    StructField(\"destination_city\", StringType(), True),\n",
    "    StructField(\"class\", StringType(), True),\n",
    "    StructField(\"duration\", DoubleType(), True),\n",
    "    StructField(\"days_left\", IntegerType(), True),  \n",
    "    StructField(\"price\", IntegerType(), True),   \n",
    "])\n",
    "\n",
    "# Load with predefined schema\n",
    "df = spark.read.option(\"header\", \"true\").schema(schema).csv(\"./datasets/airlines_flights_data.csv\")\n",
    "\n",
    "# Printing Schema\n",
    "df.printSchema()\n",
    "\n",
    "# If any start showing as null, it's probably because you skipped a column."
   ]
  },
  {
   "cell_type": "markdown",
   "id": "71dc22f6",
   "metadata": {},
   "source": [
    "---\n",
    "## Basic Commands"
   ]
  },
  {
   "cell_type": "markdown",
   "id": "26042495",
   "metadata": {},
   "source": [
    "#### Printing all Column Names"
   ]
  },
  {
   "cell_type": "code",
   "execution_count": 13,
   "id": "619912fd",
   "metadata": {},
   "outputs": [
    {
     "data": {
      "text/plain": [
       "['index',\n",
       " 'airline',\n",
       " 'flight',\n",
       " 'source_city',\n",
       " 'departure_time',\n",
       " 'stops',\n",
       " 'arrival_time',\n",
       " 'destination_city',\n",
       " 'class',\n",
       " 'duration',\n",
       " 'days_left',\n",
       " 'price']"
      ]
     },
     "execution_count": 13,
     "metadata": {},
     "output_type": "execute_result"
    }
   ],
   "source": [
    "# Printing all column names\n",
    "df.columns"
   ]
  },
  {
   "cell_type": "markdown",
   "id": "56814093",
   "metadata": {},
   "source": [
    "#### Head "
   ]
  },
  {
   "cell_type": "code",
   "execution_count": 14,
   "id": "d452e15e",
   "metadata": {},
   "outputs": [
    {
     "data": {
      "text/plain": [
       "[Row(index=0, airline='SpiceJet', flight='SG-8709', source_city='Delhi', departure_time='Evening', stops='zero', arrival_time='Night', destination_city='Mumbai', class='Economy', duration=2.17, days_left=1, price=5953),\n",
       " Row(index=1, airline='SpiceJet', flight='SG-8157', source_city='Delhi', departure_time='Early_Morning', stops='zero', arrival_time='Morning', destination_city='Mumbai', class='Economy', duration=2.33, days_left=1, price=5953),\n",
       " Row(index=2, airline='AirAsia', flight='I5-764', source_city='Delhi', departure_time='Early_Morning', stops='zero', arrival_time='Early_Morning', destination_city='Mumbai', class='Economy', duration=2.17, days_left=1, price=5956),\n",
       " Row(index=3, airline='Vistara', flight='UK-995', source_city='Delhi', departure_time='Morning', stops='zero', arrival_time='Afternoon', destination_city='Mumbai', class='Economy', duration=2.25, days_left=1, price=5955),\n",
       " Row(index=4, airline='Vistara', flight='UK-963', source_city='Delhi', departure_time='Morning', stops='zero', arrival_time='Morning', destination_city='Mumbai', class='Economy', duration=2.33, days_left=1, price=5955)]"
      ]
     },
     "execution_count": 14,
     "metadata": {},
     "output_type": "execute_result"
    }
   ],
   "source": [
    "# Printing first 3 rows\n",
    "df.head(5)"
   ]
  },
  {
   "cell_type": "markdown",
   "id": "73e47757",
   "metadata": {},
   "source": [
    "#### Filtering columns"
   ]
  },
  {
   "cell_type": "code",
   "execution_count": null,
   "id": "ae10f3d0",
   "metadata": {},
   "outputs": [
    {
     "name": "stdout",
     "output_type": "stream",
     "text": [
      "+--------+\n",
      "| airline|\n",
      "+--------+\n",
      "|SpiceJet|\n",
      "|SpiceJet|\n",
      "| AirAsia|\n",
      "| Vistara|\n",
      "| Vistara|\n",
      "+--------+\n",
      "only showing top 5 rows\n"
     ]
    }
   ],
   "source": [
    "# Filtering a column\n",
    "df.select('airline').show(5)"
   ]
  },
  {
   "cell_type": "code",
   "execution_count": null,
   "id": "739b2678",
   "metadata": {},
   "outputs": [
    {
     "name": "stdout",
     "output_type": "stream",
     "text": [
      "+--------+-------+\n",
      "| airline| flight|\n",
      "+--------+-------+\n",
      "|SpiceJet|SG-8709|\n",
      "|SpiceJet|SG-8157|\n",
      "| AirAsia| I5-764|\n",
      "| Vistara| UK-995|\n",
      "| Vistara| UK-963|\n",
      "+--------+-------+\n",
      "only showing top 5 rows\n"
     ]
    }
   ],
   "source": [
    "# Filtering columns -- Another way:\n",
    "\n",
    "# Filtering multiple columns\n",
    "df.select(['airline', 'flight']).show(5)"
   ]
  },
  {
   "cell_type": "markdown",
   "id": "1c52d883",
   "metadata": {},
   "source": [
    "#### Renaming Columns"
   ]
  },
  {
   "cell_type": "code",
   "execution_count": 17,
   "id": "42294de2",
   "metadata": {},
   "outputs": [
    {
     "name": "stdout",
     "output_type": "stream",
     "text": [
      "+-----+--------+-------+-----------+--------------+-----+-------------+----------------+-------+--------+---------+-----+\n",
      "|index| airline| flight|source_city|departure_time|stops| arrival_time|destination_city|  class|duration|days_left|price|\n",
      "+-----+--------+-------+-----------+--------------+-----+-------------+----------------+-------+--------+---------+-----+\n",
      "|    0|SpiceJet|SG-8709|      Delhi|       Evening| zero|        Night|          Mumbai|Economy|    2.17|        1| 5953|\n",
      "|    1|SpiceJet|SG-8157|      Delhi| Early_Morning| zero|      Morning|          Mumbai|Economy|    2.33|        1| 5953|\n",
      "|    2| AirAsia| I5-764|      Delhi| Early_Morning| zero|Early_Morning|          Mumbai|Economy|    2.17|        1| 5956|\n",
      "|    3| Vistara| UK-995|      Delhi|       Morning| zero|    Afternoon|          Mumbai|Economy|    2.25|        1| 5955|\n",
      "|    4| Vistara| UK-963|      Delhi|       Morning| zero|      Morning|          Mumbai|Economy|    2.33|        1| 5955|\n",
      "+-----+--------+-------+-----------+--------------+-----+-------------+----------------+-------+--------+---------+-----+\n",
      "only showing top 5 rows\n"
     ]
    }
   ],
   "source": [
    "# Renaming Columns\n",
    "df_renamed = df.withColumnRenamed(\"FlightNum\", \"NewName\").show(5)"
   ]
  },
  {
   "cell_type": "markdown",
   "id": "764dd0c6",
   "metadata": {},
   "source": [
    "#### Adding Columns"
   ]
  },
  {
   "cell_type": "code",
   "execution_count": 18,
   "id": "8cc8aab7",
   "metadata": {},
   "outputs": [
    {
     "name": "stdout",
     "output_type": "stream",
     "text": [
      "+-----+--------+-------+-----------+--------------+-----+-------------+----------------+-------+--------+---------+-----+-------+\n",
      "|index| airline| flight|source_city|departure_time|stops| arrival_time|destination_city|  class|duration|days_left|price|NewName|\n",
      "+-----+--------+-------+-----------+--------------+-----+-------------+----------------+-------+--------+---------+-----+-------+\n",
      "|    0|SpiceJet|SG-8709|      Delhi|       Evening| zero|        Night|          Mumbai|Economy|    2.17|        1| 5953|    Sup|\n",
      "|    1|SpiceJet|SG-8157|      Delhi| Early_Morning| zero|      Morning|          Mumbai|Economy|    2.33|        1| 5953|    Sup|\n",
      "|    2| AirAsia| I5-764|      Delhi| Early_Morning| zero|Early_Morning|          Mumbai|Economy|    2.17|        1| 5956|    Sup|\n",
      "|    3| Vistara| UK-995|      Delhi|       Morning| zero|    Afternoon|          Mumbai|Economy|    2.25|        1| 5955|    Sup|\n",
      "|    4| Vistara| UK-963|      Delhi|       Morning| zero|      Morning|          Mumbai|Economy|    2.33|        1| 5955|    Sup|\n",
      "+-----+--------+-------+-----------+--------------+-----+-------------+----------------+-------+--------+---------+-----+-------+\n",
      "only showing top 5 rows\n"
     ]
    }
   ],
   "source": [
    "# Dependency for using literals\n",
    "from pyspark.sql.functions import lit\n",
    "\n",
    "# Adding columns to dataframe\n",
    "df.withColumn('NewName', lit(\"Sup\")).show(5)\n",
    "\n",
    "# ''lit'' will create the same value for each row."
   ]
  },
  {
   "cell_type": "code",
   "execution_count": null,
   "id": "c4f27a3c",
   "metadata": {},
   "outputs": [
    {
     "name": "stdout",
     "output_type": "stream",
     "text": [
      "+-----+--------+-------+-----------+--------------+-----+-------------+----------------+-------+--------+---------+-----+---------------------+\n",
      "|index| airline| flight|source_city|departure_time|stops| arrival_time|destination_city|  class|duration|days_left|price|Duration Plus 2 hours|\n",
      "+-----+--------+-------+-----------+--------------+-----+-------------+----------------+-------+--------+---------+-----+---------------------+\n",
      "|    0|SpiceJet|SG-8709|      Delhi|       Evening| zero|        Night|          Mumbai|Economy|    2.17|        1| 5953|                 4.17|\n",
      "|    1|SpiceJet|SG-8157|      Delhi| Early_Morning| zero|      Morning|          Mumbai|Economy|    2.33|        1| 5953|                 4.33|\n",
      "|    2| AirAsia| I5-764|      Delhi| Early_Morning| zero|Early_Morning|          Mumbai|Economy|    2.17|        1| 5956|                 4.17|\n",
      "|    3| Vistara| UK-995|      Delhi|       Morning| zero|    Afternoon|          Mumbai|Economy|    2.25|        1| 5955|                 4.25|\n",
      "|    4| Vistara| UK-963|      Delhi|       Morning| zero|      Morning|          Mumbai|Economy|    2.33|        1| 5955|                 4.33|\n",
      "+-----+--------+-------+-----------+--------------+-----+-------------+----------------+-------+--------+---------+-----+---------------------+\n",
      "only showing top 5 rows\n"
     ]
    }
   ],
   "source": [
    "# Adding columns -- Another way:\n",
    "\n",
    "# You can do simple arithmetic when adding columns\n",
    "df.withColumn('Duration Plus 2 hours', df['duration'] + 2 ).show(5)"
   ]
  },
  {
   "cell_type": "markdown",
   "id": "ea9f93fa",
   "metadata": {},
   "source": [
    "#### Dropping Columns"
   ]
  },
  {
   "cell_type": "code",
   "execution_count": 20,
   "id": "7e0f8f86",
   "metadata": {},
   "outputs": [
    {
     "name": "stdout",
     "output_type": "stream",
     "text": [
      "+-----+--------+-------+-----------+--------------+-------------+----------------+-------+--------+---------+-----+\n",
      "|index| airline| flight|source_city|departure_time| arrival_time|destination_city|  class|duration|days_left|price|\n",
      "+-----+--------+-------+-----------+--------------+-------------+----------------+-------+--------+---------+-----+\n",
      "|    0|SpiceJet|SG-8709|      Delhi|       Evening|        Night|          Mumbai|Economy|    2.17|        1| 5953|\n",
      "|    1|SpiceJet|SG-8157|      Delhi| Early_Morning|      Morning|          Mumbai|Economy|    2.33|        1| 5953|\n",
      "|    2| AirAsia| I5-764|      Delhi| Early_Morning|Early_Morning|          Mumbai|Economy|    2.17|        1| 5956|\n",
      "|    3| Vistara| UK-995|      Delhi|       Morning|    Afternoon|          Mumbai|Economy|    2.25|        1| 5955|\n",
      "|    4| Vistara| UK-963|      Delhi|       Morning|      Morning|          Mumbai|Economy|    2.33|        1| 5955|\n",
      "+-----+--------+-------+-----------+--------------+-------------+----------------+-------+--------+---------+-----+\n",
      "only showing top 5 rows\n"
     ]
    }
   ],
   "source": [
    "# Dropping a column\n",
    "df.drop('stops').show(5)"
   ]
  }
 ],
 "metadata": {
  "kernelspec": {
   "display_name": ".venv",
   "language": "python",
   "name": "python3"
  },
  "language_info": {
   "codemirror_mode": {
    "name": "ipython",
    "version": 3
   },
   "file_extension": ".py",
   "mimetype": "text/x-python",
   "name": "python",
   "nbconvert_exporter": "python",
   "pygments_lexer": "ipython3",
   "version": "3.11.7"
  }
 },
 "nbformat": 4,
 "nbformat_minor": 5
}
